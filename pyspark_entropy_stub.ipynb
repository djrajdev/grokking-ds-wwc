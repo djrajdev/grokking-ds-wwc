{
 "cells": [
  {
   "cell_type": "markdown",
   "metadata": {},
   "source": [
    "## Entropy stub\n",
    "@Citation: [(Wiki) Entropy](https://en.wikipedia.org/wiki/Entropy_(information_theory))  "
   ]
  },
  {
   "cell_type": "markdown",
   "metadata": {},
   "source": [
    "### Why entropy?\n",
    "\n",
    "Entropy: - sum(Prob(event_i)\\*log(Prob(event_i)))\n",
    "\n",
    "Measures the amount of variation/amount of surprise in the signal. Useful for categorical vars. Can be used to guess how good a predictor will the categorical column be. Intuition behind this is that when a low probability event occurs it carries more information.\n",
    "\n",
    "If the column has little variation, or it is perfectly random, the entropy will be close to 0.\n",
    "\n",
    "<img src=\"https://upload.wikimedia.org/wikipedia/commons/thumb/2/22/Binary_entropy_plot.svg/1920px-Binary_entropy_plot.svg.png\" alt=\"Entropy curve\" width=\"200\" align=\"left\">"
   ]
  },
  {
   "cell_type": "code",
   "execution_count": null,
   "metadata": {},
   "outputs": [],
   "source": [
    "import pandas as pd\n",
    "import findspark\n",
    "findspark.init()\n",
    "import pyspark\n",
    "import pyspark.sql.functions as psq"
   ]
  },
  {
   "cell_type": "code",
   "execution_count": null,
   "metadata": {},
   "outputs": [],
   "source": [
    "def entropyCat(sdf, catcolname):\n",
    "    \"\"\"\n",
    "    Function that returns entropy score for given column\n",
    "    \n",
    "    Inputs:\n",
    "    sdf - spark data frame\n",
    "    catcolname - string column name of categorical column\n",
    "    \n",
    "    Outputs:\n",
    "    entropy - float / numeric entropy value calculated\n",
    "    \n",
    "    Usage:\n",
    "    entValue = entropyCat(data, 'someColumn')\n",
    "    \"\"\"\n",
    "    total = sdf.count()\n",
    "    tmp = (sdf\n",
    "       .groupby(psq.col(catcolname).alias('catCol')).count()\n",
    "       .withColumn('Probability', psq.col('count')/total)\n",
    "       .withColumn('ProbintoLogProb', psq.col('Probability')*psq.log(psq.col('Probability')))\n",
    "      )\n",
    "    return tmp.select(psq.sum('ProbintoLogProb')).collect()[0][0]*-1"
   ]
  }
 ],
 "metadata": {
  "kernelspec": {
   "display_name": "Python 3",
   "language": "python",
   "name": "python3"
  },
  "language_info": {
   "codemirror_mode": {
    "name": "ipython",
    "version": 3
   },
   "file_extension": ".py",
   "mimetype": "text/x-python",
   "name": "python",
   "nbconvert_exporter": "python",
   "pygments_lexer": "ipython3",
   "version": "3.6.0"
  }
 },
 "nbformat": 4,
 "nbformat_minor": 2
}
