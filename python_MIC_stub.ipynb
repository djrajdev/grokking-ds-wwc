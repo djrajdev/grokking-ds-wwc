{
 "cells": [
  {
   "cell_type": "markdown",
   "metadata": {},
   "source": [
    "### MIC stub\n",
    "\n",
    "@Citation:  \n",
    "* [(Foundational paper) Finding novel associations in large datasets](https://science.sciencemag.org/content/334/6062/1518)  \n",
    "* [(Wiki) Mutual Information](https://en.wikipedia.org/wiki/Mutual_information)\n"
   ]
  },
  {
   "cell_type": "markdown",
   "metadata": {},
   "source": [
    "#### Why MIC?\n",
    "\n",
    "Conventional correlation methods such as Pearson correlations assume linearity of data. They fail to capture the association or mutual information for non linear relationships such as y = sin(x). Maximal Information Coefficient (MIC) overcomes this. \n",
    "\n",
    "Fig. shows pearson vs MIC scores\n",
    "![Pearson Vs MIC](https://minepy.readthedocs.io/en/latest/_images/relationships.png)"
   ]
  },
  {
   "cell_type": "code",
   "execution_count": null,
   "metadata": {},
   "outputs": [],
   "source": [
    "import pandas as pd\n",
    "from minepy import MINE"
   ]
  },
  {
   "cell_type": "code",
   "execution_count": null,
   "metadata": {},
   "outputs": [],
   "source": [
    "def helper_getMIC(pdf, colname1, colname2, alpha=.6, nBins=15):\n",
    "    \"\"\"\n",
    "    Calculates MIC score for pair of columns\n",
    "    \n",
    "    Inputs:\n",
    "    pdf - pandas data frame\n",
    "    colname1, colname2 - name of numeric columns\n",
    "    alpha - used for batch size in calculating MIC. See minepy documentation for details.\n",
    "    nBins - max number of bins to use for calculating MIC. See minepy documentation for details.\n",
    "    \n",
    "    Outputs:\n",
    "    mic - mic score\n",
    "    \n",
    "    Usage:\n",
    "    mic = helper_getMIC(data, 'col1', 'col2')\n",
    "    \"\"\"\n",
    "    mine = MINE(alpha=alpha, c=nBins, est=\"mic_approx\")\n",
    "    mine.compute_score(pdf[colname1], pdf[colname2])\n",
    "    return mine.mic()"
   ]
  }
 ],
 "metadata": {
  "kernelspec": {
   "display_name": "Python 3",
   "language": "python",
   "name": "python3"
  },
  "language_info": {
   "codemirror_mode": {
    "name": "ipython",
    "version": 3
   },
   "file_extension": ".py",
   "mimetype": "text/x-python",
   "name": "python",
   "nbconvert_exporter": "python",
   "pygments_lexer": "ipython3",
   "version": "3.6.0"
  }
 },
 "nbformat": 4,
 "nbformat_minor": 2
}
