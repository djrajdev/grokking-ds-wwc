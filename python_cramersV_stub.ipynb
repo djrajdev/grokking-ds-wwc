{
 "cells": [
  {
   "cell_type": "markdown",
   "metadata": {},
   "source": [
    "### Cramer's V \n",
    "@Citations:  \n",
    "* [Cramer's V Interpretation paper](https://www.researchgate.net/publication/307963787_Cramer's_V)  \n",
    "* [Stack Overflow Cramer's code citation](https://stackoverflow.com/questions/20892799/using-pandas-calculate-cram%C3%A9rs-coefficient-matrix)  \n",
    "* [Wikipedia Cramer'V for Bias correction snippet](https://en.wikipedia.org/wiki/Cram%C3%A9r%27s_V)"
   ]
  },
  {
   "cell_type": "markdown",
   "metadata": {},
   "source": [
    "#### Why Cramer's V?\n",
    "\n",
    "Its foundation is Chi-sq test of independence for two categorical columns. However Chi-sq output is unbounded, whereas Cramer's V is normalized by sample set size. Finally Cramer's V values lie within 0-1 which makes it easier to compare with other correlation/ association tests.  \n",
    "\n",
    "Also chi-sq is non-parametric. Avoid using on ordinal columns. "
   ]
  },
  {
   "cell_type": "code",
   "execution_count": null,
   "metadata": {},
   "outputs": [],
   "source": [
    "import pandas as pd\n",
    "import scipy as sc\n",
    "import numpy as np\n",
    "import scipy.stats as stat"
   ]
  },
  {
   "cell_type": "code",
   "execution_count": 1,
   "metadata": {},
   "outputs": [],
   "source": [
    "def helper_cramersVpair(pdf, colname1, colname2):\n",
    "    \"\"\" \n",
    "    calculate Cramers V statistic for categorial-categorial association.\n",
    "    uses correction from Bergsma and Wicher, \n",
    "    Journal of the Korean Statistical Society 42 (2013): 323-328\n",
    "    (Source in citation)\n",
    "        \n",
    "    Inputs:\n",
    "    pdf: Pandas data frame\n",
    "    colname1: column name for first nominal column\n",
    "    colname2: column name for second nominal column\n",
    "    \n",
    "    Outputs:\n",
    "    chisquareScore: single score for association strenght of 2 cols\n",
    "    \n",
    "    Usage:\n",
    "    cramersV = helper_cramersVPair(data, 'col1', 'col2')\n",
    "    \"\"\"\n",
    "    # creating cross table built of freq count of 2 nominal categorical vars\n",
    "    pairCrossTab = pd.crosstab(pdf[colname1], pdf[colname2])\n",
    "    # selecting only the chisq statistic\n",
    "    chi2 = stat.chi2_contingency(pairCrossTab)[0]\n",
    "    # applying bias correction and converting to cramer's V\n",
    "    n = pairCrossTab.sum().sum()\n",
    "    phi2 = chi2/n\n",
    "    r,k = pairCrossTab.shape\n",
    "    phi2corr = max(0, phi2 - ((k-1)*(r-1))/(n-1))    \n",
    "    rcorr = r - ((r-1)**2)/(n-1)\n",
    "    kcorr = k - ((k-1)**2)/(n-1)\n",
    "    return np.sqrt(phi2corr / min( (kcorr-1), (rcorr-1)))"
   ]
  }
 ],
 "metadata": {
  "kernelspec": {
   "display_name": "Python 3",
   "language": "python",
   "name": "python3"
  },
  "language_info": {
   "codemirror_mode": {
    "name": "ipython",
    "version": 3
   },
   "file_extension": ".py",
   "mimetype": "text/x-python",
   "name": "python",
   "nbconvert_exporter": "python",
   "pygments_lexer": "ipython3",
   "version": "3.6.0"
  }
 },
 "nbformat": 4,
 "nbformat_minor": 2
}
